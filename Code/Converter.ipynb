{
 "cells": [
  {
   "cell_type": "code",
   "execution_count": 130,
   "id": "a475e7c0",
   "metadata": {},
   "outputs": [],
   "source": [
    "#!python -m pip install pyyaml==5.4.1 -q\n",
    "#!python -m pip install 'git+https://github.com/facebookresearch/detectron2.git@5aeb252b194b93dc2879b4ac34bc51a31b5aee13' -q"
   ]
  },
  {
   "cell_type": "code",
   "execution_count": 131,
   "id": "97a57604",
   "metadata": {},
   "outputs": [],
   "source": [
    "import json\n",
    "import pandas as pd\n",
    "import numpy as np\n",
    "import shutil\n",
    "import os\n",
    "import random"
   ]
  },
  {
   "cell_type": "code",
   "execution_count": 132,
   "id": "ac1a3cb5",
   "metadata": {},
   "outputs": [],
   "source": [
    "data_dir = \"../Dataset/GlobalWheatDetection\""
   ]
  },
  {
   "cell_type": "code",
   "execution_count": 133,
   "id": "e97115a9",
   "metadata": {
    "scrolled": true
   },
   "outputs": [
    {
     "data": {
      "text/plain": [
       "0"
      ]
     },
     "execution_count": 133,
     "metadata": {},
     "output_type": "execute_result"
    }
   ],
   "source": [
    "os.system(f\"mkdir {data_dir}/images\")\n",
    "os.system(f\"mkdir {data_dir}/converted\")\n",
    "os.system(f\"mkdir {data_dir}/converted/train\")\n",
    "os.system(f\"mkdir {data_dir}/converted/test\")"
   ]
  },
  {
   "cell_type": "code",
   "execution_count": 134,
   "id": "284632e5",
   "metadata": {},
   "outputs": [
    {
     "data": {
      "text/plain": [
       "'../Dataset/GlobalWheatDetection'"
      ]
     },
     "execution_count": 134,
     "metadata": {},
     "output_type": "execute_result"
    }
   ],
   "source": [
    "data_dir"
   ]
  },
  {
   "cell_type": "code",
   "execution_count": 135,
   "id": "24b9c7e4",
   "metadata": {},
   "outputs": [],
   "source": [
    "df = pd.read_csv(f\"{data_dir}/train.csv\")"
   ]
  },
  {
   "cell_type": "code",
   "execution_count": 136,
   "id": "d632eefa",
   "metadata": {
    "scrolled": true
   },
   "outputs": [
    {
     "data": {
      "text/html": [
       "<div>\n",
       "<style scoped>\n",
       "    .dataframe tbody tr th:only-of-type {\n",
       "        vertical-align: middle;\n",
       "    }\n",
       "\n",
       "    .dataframe tbody tr th {\n",
       "        vertical-align: top;\n",
       "    }\n",
       "\n",
       "    .dataframe thead th {\n",
       "        text-align: right;\n",
       "    }\n",
       "</style>\n",
       "<table border=\"1\" class=\"dataframe\">\n",
       "  <thead>\n",
       "    <tr style=\"text-align: right;\">\n",
       "      <th></th>\n",
       "      <th>image_id</th>\n",
       "      <th>width</th>\n",
       "      <th>height</th>\n",
       "      <th>bbox</th>\n",
       "      <th>source</th>\n",
       "    </tr>\n",
       "  </thead>\n",
       "  <tbody>\n",
       "    <tr>\n",
       "      <th>0</th>\n",
       "      <td>b6ab77fd7</td>\n",
       "      <td>1024</td>\n",
       "      <td>1024</td>\n",
       "      <td>[834.0, 222.0, 56.0, 36.0]</td>\n",
       "      <td>usask_1</td>\n",
       "    </tr>\n",
       "    <tr>\n",
       "      <th>1</th>\n",
       "      <td>b6ab77fd7</td>\n",
       "      <td>1024</td>\n",
       "      <td>1024</td>\n",
       "      <td>[226.0, 548.0, 130.0, 58.0]</td>\n",
       "      <td>usask_1</td>\n",
       "    </tr>\n",
       "    <tr>\n",
       "      <th>2</th>\n",
       "      <td>b6ab77fd7</td>\n",
       "      <td>1024</td>\n",
       "      <td>1024</td>\n",
       "      <td>[377.0, 504.0, 74.0, 160.0]</td>\n",
       "      <td>usask_1</td>\n",
       "    </tr>\n",
       "    <tr>\n",
       "      <th>3</th>\n",
       "      <td>b6ab77fd7</td>\n",
       "      <td>1024</td>\n",
       "      <td>1024</td>\n",
       "      <td>[834.0, 95.0, 109.0, 107.0]</td>\n",
       "      <td>usask_1</td>\n",
       "    </tr>\n",
       "    <tr>\n",
       "      <th>4</th>\n",
       "      <td>b6ab77fd7</td>\n",
       "      <td>1024</td>\n",
       "      <td>1024</td>\n",
       "      <td>[26.0, 144.0, 124.0, 117.0]</td>\n",
       "      <td>usask_1</td>\n",
       "    </tr>\n",
       "  </tbody>\n",
       "</table>\n",
       "</div>"
      ],
      "text/plain": [
       "    image_id  width  height                         bbox   source\n",
       "0  b6ab77fd7   1024    1024   [834.0, 222.0, 56.0, 36.0]  usask_1\n",
       "1  b6ab77fd7   1024    1024  [226.0, 548.0, 130.0, 58.0]  usask_1\n",
       "2  b6ab77fd7   1024    1024  [377.0, 504.0, 74.0, 160.0]  usask_1\n",
       "3  b6ab77fd7   1024    1024  [834.0, 95.0, 109.0, 107.0]  usask_1\n",
       "4  b6ab77fd7   1024    1024  [26.0, 144.0, 124.0, 117.0]  usask_1"
      ]
     },
     "execution_count": 136,
     "metadata": {},
     "output_type": "execute_result"
    }
   ],
   "source": [
    "df.head()"
   ]
  },
  {
   "cell_type": "code",
   "execution_count": 137,
   "id": "0c53141f",
   "metadata": {
    "scrolled": true
   },
   "outputs": [],
   "source": [
    "im_idx = 0\n",
    "ann_idx = 0\n",
    "annotations = []\n",
    "images = []\n",
    "categories = [\n",
    "    {'id':0,'name':'wheat'}\n",
    "]\n",
    "\n",
    "images_dir = f\"{data_dir}/train\"\n",
    "imgs = df.image_id.value_counts().index.tolist()\n",
    "\n",
    "for im in imgs:\n",
    "    \n",
    "    anns = df[df.image_id==im]\n",
    "    \n",
    "    img_obj = {\n",
    "        'id': im_idx,\n",
    "        'file_name': f\"{im}.jpg\",\n",
    "        'height': int(anns.iloc[0]['height']),\n",
    "        'width': int(anns.iloc[0]['width'])\n",
    "    }\n",
    "\n",
    "    images.append(img_obj)\n",
    "    os.system(f\"cp {images_dir}/{im}.jpg {data_dir}/images/{im}.jpg\")\n",
    "\n",
    "    for ann in anns['bbox']:\n",
    "        \n",
    "        bbox = [float(a) for a in ann.replace(\"[\",\"\").replace(']','').split(',')]\n",
    "        ann_obj = {\n",
    "            'id': ann_idx,\n",
    "            'image_id': im_idx,\n",
    "            'category_id': 0,\n",
    "            'area': int(bbox[2] * bbox[3]),\n",
    "            'bbox': bbox,\n",
    "            'iscrowd':0,\n",
    "        }\n",
    "\n",
    "        annotations.append(ann_obj)\n",
    "\n",
    "        ann_idx += 1\n",
    "    im_idx += 1"
   ]
  },
  {
   "cell_type": "code",
   "execution_count": 138,
   "id": "a93009a8",
   "metadata": {},
   "outputs": [],
   "source": [
    "test_images = random.sample(images, 50)\n",
    "test_annotations = []\n",
    "for im in test_images:\n",
    "    anns = [ann for ann in annotations if ann['image_id'] == im['id']]\n",
    "    test_annotations.extend(anns)\n",
    "    for ann in anns:\n",
    "        annotations.remove(ann)\n",
    "    images.remove(im)\n",
    "    \n",
    "    os.system(f\"mv {data_dir}/images/{im['file_name']} {data_dir}/converted/test/{im['file_name']}\")"
   ]
  },
  {
   "cell_type": "code",
   "execution_count": 139,
   "id": "3a4b5579",
   "metadata": {},
   "outputs": [
    {
     "data": {
      "text/plain": [
       "0"
      ]
     },
     "execution_count": 139,
     "metadata": {},
     "output_type": "execute_result"
    }
   ],
   "source": [
    "os.system(f'mv {data_dir}/images/* {data_dir}/converted/train')"
   ]
  },
  {
   "cell_type": "code",
   "execution_count": 140,
   "id": "2dd60e6e",
   "metadata": {
    "scrolled": true
   },
   "outputs": [],
   "source": [
    "train = {\n",
    "    'images':images,\n",
    "    'annotations':annotations,\n",
    "    'categories': categories\n",
    "}\n",
    "\n",
    "test = {\n",
    "    'images':test_images,\n",
    "    'annotations':test_annotations,\n",
    "    'categories': categories\n",
    "}\n",
    "\n",
    "with open(f\"{data_dir}/converted/train/train.json\", \"w\") as f:\n",
    "    json.dump(train, f)\n",
    "    \n",
    "with open(f\"{data_dir}/converted/test/test.json\", \"w\") as f:\n",
    "    json.dump(test, f)"
   ]
  },
  {
   "cell_type": "code",
   "execution_count": null,
   "id": "5a0a5c1c",
   "metadata": {},
   "outputs": [],
   "source": []
  }
 ],
 "metadata": {
  "kernelspec": {
   "display_name": "Python 3 (ipykernel)",
   "language": "python",
   "name": "python3"
  },
  "language_info": {
   "codemirror_mode": {
    "name": "ipython",
    "version": 3
   },
   "file_extension": ".py",
   "mimetype": "text/x-python",
   "name": "python",
   "nbconvert_exporter": "python",
   "pygments_lexer": "ipython3",
   "version": "3.9.13"
  }
 },
 "nbformat": 4,
 "nbformat_minor": 5
}
